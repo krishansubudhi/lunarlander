{
 "cells": [
  {
   "cell_type": "code",
   "execution_count": 1,
   "metadata": {},
   "outputs": [],
   "source": [
    "import torch\n",
    "import numpy as np\n",
    "import matplotlib.pyplot as plt\n",
    "from agents import QLearningAgent\n",
    "from collections import deque\n",
    "from collections.abc import Iterable\n",
    "import pdb"
   ]
  },
  {
   "cell_type": "code",
   "execution_count": 87,
   "metadata": {},
   "outputs": [],
   "source": [
    "class DQNAgentModel(torch.nn.Module):\n",
    "    def __init__(self, ip_size, op_size, lr = 0.1, gamma = 0.95):\n",
    "        super().__init__()\n",
    "        self.ip_size = ip_size\n",
    "        self.op_size = op_size\n",
    "        hidden_size = 10\n",
    "        self.net = torch.nn.Sequential(\n",
    "                torch.nn.Linear(ip_size, hidden_size),\n",
    "                torch.nn.ReLU(),\n",
    "                torch.nn.Linear(hidden_size, hidden_size),\n",
    "                torch.nn.ReLU(),\n",
    "                torch.nn.Linear(hidden_size, op_size)\n",
    "        )\n",
    "        self.memory = deque(maxlen=1000000)\n",
    "        self.maxmemory = 1000\n",
    "        self.batch_size = 128\n",
    "        self.lr = lr\n",
    "        self.gamma = gamma\n",
    "        self.optim = torch.optim.SGD(lr = lr, params = self.parameters())\n",
    "        self.criterion = torch.nn.MSELoss()\n",
    "        self.losses = []\n",
    "        self.steps = 0\n",
    "    def forward(self, x):\n",
    "        if not isinstance(x, torch.Tensor):# assumes bs 1\n",
    "            x = torch.tensor(x, dtype = torch.float)\n",
    "        return self.net(x)\n",
    "    def get_random_memories(self, batch_size):\n",
    "        indices = np.random.choice(len(self.memory), batch_size)\n",
    "        states = []\n",
    "        actions = []\n",
    "        rewards = []\n",
    "        next_states = []\n",
    "        finished = []\n",
    "        for i in indices:\n",
    "            states.append(self.memory[i][0])\n",
    "            actions.append(self.memory[i][1])\n",
    "            rewards.append(self.memory[i][2])\n",
    "            next_states.append(self.memory[i][3])\n",
    "            finished.append(int(self.memory[i][4]))\n",
    "        return {'states' :torch.tensor(states, dtype = torch.float).reshape(len(states),self.ip_size),\n",
    "                'actions' : torch.tensor(actions, dtype = torch.long),\n",
    "                'rewards': torch.tensor(rewards, dtype = torch.float),\n",
    "                'next_states' : torch.tensor(next_states, dtype = torch.float).reshape(len(states),self.ip_size),\n",
    "                'finished' : torch.tensor(finished, dtype = torch.int)\n",
    "               }\n",
    "    def addObservation(self,state, action, reward, next_state, finished):\n",
    "        self.memory.append([state, action, reward, next_state, finished])\n",
    "    def train_step(self, states, labels):\n",
    "        # pdb.set_trace()\n",
    "        self.steps += 1\n",
    "        self.optim.zero_grad()\n",
    "        pred = self.forward(states).squeeze()\n",
    "#         print(pred, labels)\n",
    "        loss = self.criterion(labels, pred)\n",
    "        loss.backward()\n",
    "        self.losses.append(loss.item())\n",
    "        if self.steps % 50 == 0:\n",
    "            print(f'{self.steps}: loss = {loss}')#, model = {self.net[0].weight.data.numpy()}')\n",
    "        self.optim.step()\n",
    "    def generate_label(self, memories):\n",
    "        states = memories['states']\n",
    "        actions = memories['actions']\n",
    "        labels = self.forward(states)\n",
    "        next_state_qvals = torch.max(self.forward(memories['next_states']), axis = 1)[0] * (1-memories['finished'])\n",
    "        \n",
    "        labels[range(labels.shape[0]), actions] = \\\n",
    "            memories['rewards'] + self.gamma * next_state_qvals\n",
    "        return labels\n",
    "    def replay_experiences(self):\n",
    "        if len(self.memory)<self.batch_size:\n",
    "            return\n",
    "        memories = self.get_random_memories(self.batch_size)\n",
    "        states = memories['states']\n",
    "        labels = self.generate_label(memories)\n",
    "#         print(states, labels)\n",
    "        self.train_step(states, labels)\n",
    "        \n",
    "    def plot_stats(self):\n",
    "        plt.plot(self.losses)"
   ]
  },
  {
   "cell_type": "code",
   "execution_count": 127,
   "metadata": {},
   "outputs": [],
   "source": [
    "class DeepQLearningAgent(QLearningAgent):\n",
    "    def __init__(self, state_dim, action_dim, lr = 0.01, gamma = 0.95):\n",
    "        super().__init__()\n",
    "        self.model = DQNAgentModel(state_dim, action_dim, lr, gamma)\n",
    "    def train(self,*args,**kwargs):\n",
    "        super().train(*args,**kwargs)\n",
    "        self.model.train()\n",
    "    def getBestAction(self,state, actions):\n",
    "        if not isinstance(state, Iterable):\n",
    "            state = [state]\n",
    "        qVals = self.model([state])[0].data\n",
    "        best_a = max(zip(qVals[actions], actions))[1]\n",
    "#         print(actions,qVals, best_a)\n",
    "        return best_a\n",
    "    def _update(self, state, action, reward, next_state, next_state_actions, finished = False):\n",
    "        # print(state, action, reward, next_state, finished)\n",
    "        self.model.addObservation(state, action, reward, next_state, finished )\n",
    "        self.model.replay_experiences()\n",
    "        "
   ]
  },
  {
   "cell_type": "code",
   "execution_count": 128,
   "metadata": {},
   "outputs": [],
   "source": [
    "import simplegame"
   ]
  },
  {
   "cell_type": "code",
   "execution_count": 129,
   "metadata": {},
   "outputs": [
    {
     "name": "stdout",
     "output_type": "stream",
     "text": [
      "50: loss = 0.018629372119903564\n",
      "100: loss = 0.016166463494300842\n",
      "150: loss = 0.015793761238455772\n",
      "200: loss = 0.015534640289843082\n",
      "250: loss = 0.01247616857290268\n",
      "300: loss = 0.0197602491825819\n",
      "350: loss = 0.020250730216503143\n",
      "400: loss = 0.018174177035689354\n",
      "450: loss = 0.019134776666760445\n",
      "500: loss = 0.015679949894547462\n",
      "550: loss = 0.012800503522157669\n",
      "600: loss = 0.02061637118458748\n",
      "650: loss = 0.014697887003421783\n",
      "700: loss = 0.01662861742079258\n",
      "750: loss = 0.026368333026766777\n",
      "800: loss = 0.013714572414755821\n",
      "850: loss = 0.013442857190966606\n",
      "900: loss = 0.019268181174993515\n",
      "950: loss = 0.0190606527030468\n",
      "1000: loss = 0.016519084572792053\n",
      "1050: loss = 0.011865398846566677\n",
      "1100: loss = 0.016438808292150497\n",
      "1150: loss = 0.018113024532794952\n",
      "1200: loss = 0.011901773512363434\n",
      "1250: loss = 0.015834104269742966\n",
      "1300: loss = 0.011850070208311081\n",
      "1350: loss = 0.017423128709197044\n",
      "1400: loss = 0.007568628992885351\n",
      "1450: loss = 0.018785133957862854\n",
      "1500: loss = 0.016244081780314445\n",
      "1550: loss = 0.016044052317738533\n",
      "1600: loss = 0.013535575941205025\n",
      "1650: loss = 0.013668328523635864\n"
     ]
    }
   ],
   "source": [
    "all_rewards = []\n",
    "all_steps = []\n",
    "episodes = 100\n",
    "agent = DeepQLearningAgent(1,2, lr =0.001, gamma = 0.9)\n",
    "env = simplegame.OneDtarget()\n",
    "for e in range(episodes):\n",
    "    # print(agent.model.net[0].weight.data, agent.model.net[0].bias.data)\n",
    "    agent.train(epsilon = 0.3 if e<20 else 0.1 )\n",
    "    reward, steps = simplegame.playOneEpisode(env, agent, 100)\n",
    "    all_rewards.append(reward)\n",
    "    all_steps.append(steps)"
   ]
  },
  {
   "cell_type": "code",
   "execution_count": 130,
   "metadata": {},
   "outputs": [
    {
     "data": {
      "text/plain": [
       "Text(0.5, 1.0, 'losses')"
      ]
     },
     "execution_count": 130,
     "metadata": {},
     "output_type": "execute_result"
    },
    {
     "data": {
      "image/png": "[encoded data removed]",
      "text/plain": [
       "<Figure size 720x360 with 3 Axes>"
      ]
     },
     "metadata": {
      "needs_background": "light"
     },
     "output_type": "display_data"
    }
   ],
   "source": [
    "fig, (ax1, ax2, ax3) = plt.subplots(3,1, figsize = (10,5))\n",
    "ax1.plot(all_rewards)\n",
    "ax1.set_title('rewards')\n",
    "ax2.plot(all_steps)\n",
    "ax2.set_title('steps')\n",
    "ax3.plot(agent.model.losses)\n",
    "ax3.set_title('losses')"
   ]
  },
  {
   "cell_type": "code",
   "execution_count": 131,
   "metadata": {},
   "outputs": [
    {
     "name": "stdout",
     "output_type": "stream",
     "text": [
      "[  0   0   0   0   0 100   0   0   0   1   0]\n",
      "[  0   0   0   0   0 100   0   0   1   0   0]\n",
      "[  0   0   0   0   0 100   0   1   0   0   0]\n",
      "[  0   0   0   0   0 100   1   0   0   0   0]\n",
      "[  0   0   0   0   0 100   0   0   0   0   0]\n"
     ]
    },
    {
     "data": {
      "text/plain": [
       "(1.4, 5)"
      ]
     },
     "execution_count": 131,
     "metadata": {},
     "output_type": "execute_result"
    }
   ],
   "source": [
    "agent.evaluate()\n",
    "\n",
    "simplegame.playOneEpisode(env, agent, 100, render = True)"
   ]
  },
  {
   "cell_type": "code",
   "execution_count": 132,
   "metadata": {},
   "outputs": [
    {
     "name": "stdout",
     "output_type": "stream",
     "text": [
      "0 tensor(1)\n",
      "1 tensor(1)\n",
      "2 tensor(1)\n",
      "3 tensor(1)\n",
      "4 tensor(1)\n",
      "5 tensor(0)\n",
      "6 tensor(0)\n",
      "7 tensor(0)\n",
      "8 tensor(0)\n",
      "9 tensor(0)\n",
      "10 tensor(0)\n"
     ]
    }
   ],
   "source": [
    "for i in range(11):\n",
    "    print(i, torch.argmax(agent.model([i])))"
   ]
  },
  {
   "cell_type": "code",
   "execution_count": 116,
   "metadata": {},
   "outputs": [
    {
     "data": {
      "text/plain": [
       "{'states': tensor([[ 9.],\n",
       "         [ 9.],\n",
       "         [ 9.],\n",
       "         [10.]]),\n",
       " 'actions': tensor([1, 1, 1, 0]),\n",
       " 'rewards': tensor([-0.1000, -0.1000, -0.1000,  0.1000]),\n",
       " 'next_states': tensor([[10.],\n",
       "         [10.],\n",
       "         [10.],\n",
       "         [ 9.]]),\n",
       " 'finished': tensor([0, 0, 0, 0], dtype=torch.int32)}"
      ]
     },
     "execution_count": 116,
     "metadata": {},
     "output_type": "execute_result"
    }
   ],
   "source": [
    "m = agent.model.get_random_memories(4)\n",
    "m"
   ]
  },
  {
   "cell_type": "code",
   "execution_count": 96,
   "metadata": {},
   "outputs": [
    {
     "data": {
      "text/plain": [
       "tensor([[ 0.2287, -0.1619],\n",
       "        [ 0.1382,  0.0287],\n",
       "        [ 0.1430,  0.0331],\n",
       "        [ 0.2287, -0.1619]], grad_fn=<IndexPutBackward0>)"
      ]
     },
     "execution_count": 96,
     "metadata": {},
     "output_type": "execute_result"
    }
   ],
   "source": [
    "agent.model.generate_label(m)"
   ]
  },
  {
   "cell_type": "code",
   "execution_count": 97,
   "metadata": {},
   "outputs": [
    {
     "name": "stdout",
     "output_type": "stream",
     "text": [
      "0 tensor([0.2087, 0.3870], grad_fn=<AddBackward0>)\n",
      "1 tensor([0.1597, 0.3453], grad_fn=<AddBackward0>)\n",
      "2 tensor([0.1031, 0.3098], grad_fn=<AddBackward0>)\n",
      "3 tensor([0.1027, 0.2417], grad_fn=<AddBackward0>)\n",
      "4 tensor([0.1189, 0.1703], grad_fn=<AddBackward0>)\n",
      "5 tensor([0.1238, 0.1149], grad_fn=<AddBackward0>)\n",
      "6 tensor([0.1286, 0.0595], grad_fn=<AddBackward0>)\n",
      "7 tensor([0.1334, 0.0042], grad_fn=<AddBackward0>)\n",
      "8 tensor([ 0.1382, -0.0512], grad_fn=<AddBackward0>)\n",
      "9 tensor([ 0.1430, -0.1066], grad_fn=<AddBackward0>)\n",
      "10 tensor([ 0.1479, -0.1619], grad_fn=<AddBackward0>)\n"
     ]
    }
   ],
   "source": [
    "for i in range(11):\n",
    "    print(i, agent.model([i]))"
   ]
  },
  {
   "cell_type": "code",
   "execution_count": null,
   "metadata": {},
   "outputs": [],
   "source": []
  }
 ],
 "metadata": {
  "interpreter": {
   "hash": "b0ab17095d43904e28fc40588459fccada784df37a9fc10a83f4cf96f18106ea"
  },
  "kernelspec": {
   "display_name": "Python 3",
   "language": "python",
   "name": "python3"
  },
  "language_info": {
   "codemirror_mode": {
    "name": "ipython",
    "version": 3
   },
   "file_extension": ".py",
   "mimetype": "text/x-python",
   "name": "python",
   "nbconvert_exporter": "python",
   "pygments_lexer": "ipython3",
   "version": "3.9.7"
  }
 },
 "nbformat": 4,
 "nbformat_minor": 2
}
